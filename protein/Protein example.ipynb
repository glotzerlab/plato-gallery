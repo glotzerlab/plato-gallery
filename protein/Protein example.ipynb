{
 "cells": [
  {
   "cell_type": "markdown",
   "metadata": {},
   "source": [
    "This notebook demonstrates cartoon-style rendering of a protein downloaded from the PDB."
   ]
  },
  {
   "cell_type": "code",
   "execution_count": null,
   "metadata": {
    "collapsed": true
   },
   "outputs": [],
   "source": [
    "%gui qt4\n",
    "\n",
    "from collections import defaultdict, namedtuple\n",
    "from itertools import repeat\n",
    "import numpy as np\n",
    "\n",
    "import vispy\n",
    "from vispy import app\n",
    "# app.use_app('pyside')\n",
    "\n",
    "import gtar\n",
    "\n",
    "import plato\n",
    "import plato.draw.vispy as draw"
   ]
  },
  {
   "cell_type": "code",
   "execution_count": null,
   "metadata": {},
   "outputs": [],
   "source": [
    "with gtar.GTAR('1aqw.zip', 'r') as traj:\n",
    "    positions = traj.readPath('position.f32.ind')\n",
    "    diameter = traj.readPath('diameter.f32.ind')\n",
    "    colors = traj.readPath('color.f32.ind').reshape((-1, 4))\n",
    "    types = traj.readPath('type.u32.ind')\n",
    "    box = traj.readPath('box.f32.uni')"
   ]
  },
  {
   "cell_type": "code",
   "execution_count": null,
   "metadata": {},
   "outputs": [],
   "source": [
    "prim = draw.Spheres(positions=positions, diameters=diameter, colors=colors, light_levels=3.5)\n",
    "features = dict(fxaa=True, outlines=7e-3, ambient_light=.25, directional_light=(-.2, -.5, -1))\n",
    "rotation = [ 0.7195881 ,  0.66670936, -0.1481717 , -0.12545502]\n",
    "scene = draw.Scene(prim, features=features, size=(80, 60), pixel_scale=20, rotation=rotation)\n",
    "scene.show()"
   ]
  },
  {
   "cell_type": "code",
   "execution_count": null,
   "metadata": {},
   "outputs": [],
   "source": [
    "scene.save('../gallery/protein_vispy.png')"
   ]
  },
  {
   "cell_type": "code",
   "execution_count": null,
   "metadata": {
    "collapsed": true
   },
   "outputs": [],
   "source": []
  }
 ],
 "metadata": {
  "kernelspec": {
   "display_name": "Python 3",
   "language": "python",
   "name": "python3"
  },
  "language_info": {
   "codemirror_mode": {
    "name": "ipython",
    "version": 3
   },
   "file_extension": ".py",
   "mimetype": "text/x-python",
   "name": "python",
   "nbconvert_exporter": "python",
   "pygments_lexer": "ipython3",
   "version": "3.6.4"
  }
 },
 "nbformat": 4,
 "nbformat_minor": 2
}
