{
 "cells": [
  {
   "cell_type": "markdown",
   "metadata": {},
   "source": [
    "In this notebook we simulate rounded cubes using the [DEM component](https://hoomd-blue.readthedocs.io/en/stable/module-dem-pair.html#hoomd.dem.pair.WCA) of HOOMD-Blue. We visualize the shapes using the povray backend and color them by the distance to their nearest neighbor."
   ]
  },
  {
   "cell_type": "code",
   "execution_count": null,
   "metadata": {},
   "outputs": [],
   "source": [
    "import flowws\n",
    "import gtar\n",
    "from hoomd_flowws.Init import Init\n",
    "from hoomd_flowws.DEMInteraction import DEMInteraction\n",
    "from hoomd_flowws.Run import Run\n",
    "from hoomd_flowws.ShapeDefinition import ShapeDefinition\n",
    "\n",
    "import json\n",
    "import plato, plato.draw.povray as draw\n",
    "import freud\n",
    "import numpy as np\n",
    "import IPython\n",
    "import ipywidgets"
   ]
  },
  {
   "cell_type": "code",
   "execution_count": null,
   "metadata": {},
   "outputs": [],
   "source": [
    "shape = dict(type='cube', modifications=[dict(type='scale', factor=2), dict(type='round', radius=.5)])\n",
    "\n",
    "storage = flowws.DirectoryStorage()\n",
    "stages = [\n",
    "    ShapeDefinition(shape_arguments=[shape]),\n",
    "    Init(number=128),\n",
    "    DEMInteraction(type='wca'),\n",
    "    Run(steps=1e3, integrator='langevin'),\n",
    "    Run(steps=1e5, integrator='langevin', compress_to=.8, dump_period=1e4),\n",
    "]\n",
    "\n",
    "flowws.Workflow(stages, storage).run()"
   ]
  },
  {
   "cell_type": "code",
   "execution_count": null,
   "metadata": {},
   "outputs": [],
   "source": [
    "num_frames = 0\n",
    "\n",
    "def get_frame(frame=-1):\n",
    "    global num_frames\n",
    "    with gtar.GTAR('dump.sqlite', 'r') as traj:\n",
    "        (posRec, quatRec, boxRec), frames = traj.framesWithRecordsNamed(['position', 'orientation', 'box'])\n",
    "\n",
    "        for (_, type_shapes) in traj.recordsNamed('type_shapes.json'):\n",
    "            type_shapes = json.loads(type_shapes)\n",
    "\n",
    "        num_frames = len(frames)\n",
    "        positions = traj.getRecord(posRec, frames[frame])\n",
    "        orientations = traj.getRecord(quatRec, frames[frame])\n",
    "        box = traj.getRecord(boxRec, frames[frame])\n",
    "\n",
    "    shapedef = type_shapes[0]\n",
    "    return positions, orientations, box, shapedef"
   ]
  },
  {
   "cell_type": "code",
   "execution_count": null,
   "metadata": {},
   "outputs": [],
   "source": [
    "def update(scene, frame=-1):\n",
    "    (positions, orientations, box, shapedef) = get_frame(frame)\n",
    "    # get nearest-neighbor distance, rescaled to go from 0-1, as cval\n",
    "    fbox = freud.box.Box.from_box(box)\n",
    "    nn = freud.locality.NearestNeighbors(1.5, 1).compute(fbox, positions, positions)\n",
    "    cval = nn.r_sq_list[:, 0].copy()\n",
    "    cval -= np.min(cval)\n",
    "    cval /= np.max(cval)\n",
    "    \n",
    "    colors = plato.cmap.cubehelix(.25 + .5*cval, s=1)\n",
    "    \n",
    "    for prim in scene:\n",
    "        prim.positions = positions\n",
    "        prim.orientations = orientations\n",
    "        prim.colors = colors\n",
    "        prim.vertices = shapedef['vertices']\n",
    "        prim.radius = shapedef['rounding_radius']\n",
    "\n",
    "prim = draw.ConvexSpheropolyhedra()\n",
    "features = dict(ambient_light=.4)\n",
    "scene = draw.Scene(prim, features=features, zoom=1.3)\n",
    "update(scene)\n",
    "\n",
    "target = '../../gallery/flowws_cubes_povray.png'\n",
    "scene.save(target)\n",
    "IPython.display.Image(filename=target)"
   ]
  },
  {
   "cell_type": "code",
   "execution_count": null,
   "metadata": {},
   "outputs": [],
   "source": [
    "import plato.draw.vispy as interactive\n",
    "\n",
    "live_scene = scene.convert(interactive)\n",
    "live_scene.show()\n",
    "\n",
    "@ipywidgets.interact(frame=(0, num_frames - 1))\n",
    "def plot(frame=0):\n",
    "    update(live_scene, frame)\n",
    "    live_scene.render()"
   ]
  },
  {
   "cell_type": "code",
   "execution_count": null,
   "metadata": {},
   "outputs": [],
   "source": []
  }
 ],
 "metadata": {
  "kernelspec": {
   "display_name": "Python 3",
   "language": "python",
   "name": "python3"
  },
  "language_info": {
   "codemirror_mode": {
    "name": "ipython",
    "version": 3
   },
   "file_extension": ".py",
   "mimetype": "text/x-python",
   "name": "python",
   "nbconvert_exporter": "python",
   "pygments_lexer": "ipython3",
   "version": "3.7.3"
  }
 },
 "nbformat": 4,
 "nbformat_minor": 2
}
