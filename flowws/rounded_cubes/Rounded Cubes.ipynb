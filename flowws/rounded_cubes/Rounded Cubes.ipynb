{
 "cells": [
  {
   "cell_type": "markdown",
   "metadata": {},
   "source": [
    "In this notebook we simulate rounded cubes using the [DEM component](https://hoomd-blue.readthedocs.io/en/stable/module-dem-pair.html#hoomd.dem.pair.WCA) of HOOMD-Blue. We visualize the shapes using the povray backend and color them by the distance to their nearest neighbor."
   ]
  },
  {
   "cell_type": "code",
   "execution_count": null,
   "metadata": {},
   "outputs": [],
   "source": [
    "import flowws\n",
    "import gtar\n",
    "from hoomd_flowws.Init import Init\n",
    "from hoomd_flowws.DEMInteraction import DEMInteraction\n",
    "from hoomd_flowws.Run import Run\n",
    "from hoomd_flowws.ShapeDefinition import ShapeDefinition\n",
    "\n",
    "import json\n",
    "import plato, plato.draw.povray as draw\n",
    "from plato.draw.vispy.internal import DEFAULT_DIRECTIONAL_LIGHTS as directional_lights\n",
    "import freud\n",
    "import numpy as np\n",
    "import IPython"
   ]
  },
  {
   "cell_type": "code",
   "execution_count": null,
   "metadata": {},
   "outputs": [],
   "source": [
    "shape = dict(type='cube', modifications=[dict(type='scale', factor=2), dict(type='round', radius=.5)])\n",
    "\n",
    "storage = flowws.DirectoryStorage()\n",
    "stages = [\n",
    "    ShapeDefinition(shape_arguments=[shape]),\n",
    "    Init(number=128),\n",
    "    DEMInteraction(type='wca'),\n",
    "    Run(steps=1e3, integrator='langevin'),\n",
    "    Run(steps=1e5, integrator='langevin', compress_to=.8, dump_period=1e4),\n",
    "]\n",
    "\n",
    "flowws.Workflow(stages, storage).run()"
   ]
  },
  {
   "cell_type": "code",
   "execution_count": null,
   "metadata": {},
   "outputs": [],
   "source": [
    "with gtar.GTAR('dump.sqlite', 'r') as traj:\n",
    "    (posRec, quatRec, boxRec), frames = traj.framesWithRecordsNamed(['position', 'orientation', 'box'])\n",
    "    \n",
    "    for (_, type_shapes) in traj.recordsNamed('type_shapes.json'):\n",
    "        type_shapes = json.loads(type_shapes)\n",
    "    \n",
    "    positions = traj.getRecord(posRec, frames[-1])\n",
    "    orientations = traj.getRecord(quatRec, frames[-1])\n",
    "    box = traj.getRecord(boxRec, frames[-1])   \n",
    "\n",
    "shapedef = type_shapes[0]"
   ]
  },
  {
   "cell_type": "code",
   "execution_count": null,
   "metadata": {},
   "outputs": [],
   "source": [
    "# get nearest-neighbor distance, rescaled to go from 0-1, as cval\n",
    "fbox = freud.box.Box.from_box(box)\n",
    "nn = freud.locality.NearestNeighbors(1.5, 1).compute(fbox, positions, positions)\n",
    "cval = nn.r_sq_list[:, 0].copy()\n",
    "cval -= np.min(cval)\n",
    "cval /= np.max(cval)\n",
    "\n",
    "colors = plato.cmap.cubehelix(.25 + .5*cval, s=1)\n",
    "prim = draw.ConvexSpheropolyhedra(\n",
    "    positions=positions, orientations=orientations, colors=colors, \n",
    "    vertices=shapedef['vertices'], radius=shapedef['rounding_radius'])\n",
    "features = dict(ambient_light=.4, directional_light=directional_lights)\n",
    "scene = draw.Scene(prim, features=features, zoom=1.3)\n",
    "\n",
    "target = '../../gallery/flowws_cubes_povray.png'\n",
    "scene.save(target)\n",
    "IPython.display.Image(filename=target)"
   ]
  },
  {
   "cell_type": "code",
   "execution_count": null,
   "metadata": {},
   "outputs": [],
   "source": []
  }
 ],
 "metadata": {
  "kernelspec": {
   "display_name": "Python 3",
   "language": "python",
   "name": "python3"
  },
  "language_info": {
   "codemirror_mode": {
    "name": "ipython",
    "version": 3
   },
   "file_extension": ".py",
   "mimetype": "text/x-python",
   "name": "python",
   "nbconvert_exporter": "python",
   "pygments_lexer": "ipython3",
   "version": "3.7.3"
  }
 },
 "nbformat": 4,
 "nbformat_minor": 2
}
