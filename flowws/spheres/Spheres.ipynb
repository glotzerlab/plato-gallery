{
 "cells": [
  {
   "cell_type": "markdown",
   "metadata": {},
   "source": [
    "In this notebook we run a simple system of purely repulsive spheres using a [Weeks-Chandler-Andersen potential](https://hoomd-blue.readthedocs.io/en/stable/module-md-pair.html#hoomd.md.pair.lj). We visualize the spheres using the povray backend and color them by distance to their nearest neighbor."
   ]
  },
  {
   "cell_type": "code",
   "execution_count": null,
   "metadata": {},
   "outputs": [],
   "source": [
    "import flowws\n",
    "import gtar\n",
    "from hoomd_flowws.Init import Init\n",
    "from hoomd_flowws.Interaction import Interaction\n",
    "from hoomd_flowws.Run import Run\n",
    "\n",
    "import plato, plato.draw.povray as draw\n",
    "from plato.draw.vispy.internal import DEFAULT_DIRECTIONAL_LIGHTS as directional_lights\n",
    "import freud\n",
    "import numpy as np\n",
    "import IPython"
   ]
  },
  {
   "cell_type": "code",
   "execution_count": null,
   "metadata": {},
   "outputs": [],
   "source": [
    "storage = flowws.DirectoryStorage()\n",
    "stages = [\n",
    "    Init(number=128),\n",
    "    Interaction(\n",
    "        type='lj', global_params=[('r_cut', 2**(1./6))], \n",
    "        pair_params=[('A', 'A', 'epsilon', 1), ('A', 'A', 'sigma', 1)]),\n",
    "    Run(steps=1e3, integrator='langevin'),\n",
    "    Run(steps=1e4, integrator='langevin', compress_to=.57, dump_period=1e3),\n",
    "]\n",
    "\n",
    "flowws.Workflow(stages, storage).run()"
   ]
  },
  {
   "cell_type": "code",
   "execution_count": null,
   "metadata": {},
   "outputs": [],
   "source": [
    "with gtar.GTAR('dump.sqlite', 'r') as traj:\n",
    "    (posRec, boxRec), frames = traj.framesWithRecordsNamed(['position', 'box'])\n",
    "    \n",
    "    positions = traj.getRecord(posRec, frames[-1])\n",
    "    box = traj.getRecord(boxRec, frames[-1])    "
   ]
  },
  {
   "cell_type": "code",
   "execution_count": null,
   "metadata": {},
   "outputs": [],
   "source": [
    "# get nearest-neighbor distance, rescaled to go from 0-1, as cval\n",
    "fbox = freud.box.Box.from_box(box)\n",
    "nn = freud.locality.NearestNeighbors(1.5, 1).compute(fbox, positions, positions)\n",
    "cval = nn.r_sq_list[:, 0].copy()\n",
    "cval -= np.min(cval)\n",
    "cval /= np.max(cval)\n",
    "\n",
    "colors = plato.cmap.cubehelix(.25 + .5*cval)\n",
    "prim = draw.Spheres(positions=positions, diameters=np.ones(len(positions)), colors=colors)\n",
    "features = dict(ambient_light=.4, directional_light=directional_lights)\n",
    "scene = draw.Scene(prim, features=features, zoom=4.8)\n",
    "\n",
    "target = '../../gallery/flowws_spheres_povray.png'\n",
    "scene.save(target)\n",
    "IPython.display.Image(filename=target)"
   ]
  },
  {
   "cell_type": "code",
   "execution_count": null,
   "metadata": {},
   "outputs": [],
   "source": []
  }
 ],
 "metadata": {
  "kernelspec": {
   "display_name": "Python 3",
   "language": "python",
   "name": "python3"
  },
  "language_info": {
   "codemirror_mode": {
    "name": "ipython",
    "version": 3
   },
   "file_extension": ".py",
   "mimetype": "text/x-python",
   "name": "python",
   "nbconvert_exporter": "python",
   "pygments_lexer": "ipython3",
   "version": "3.7.3"
  }
 },
 "nbformat": 4,
 "nbformat_minor": 2
}
