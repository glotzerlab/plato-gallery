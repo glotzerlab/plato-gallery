{
 "cells": [
  {
   "cell_type": "markdown",
   "metadata": {},
   "source": [
    "In this notebook we run a simple system of purely repulsive spheres using a [Weeks-Chandler-Andersen potential](https://hoomd-blue.readthedocs.io/en/stable/module-md-pair.html#hoomd.md.pair.lj). We visualize the spheres using the povray backend and color them by distance to their nearest neighbor."
   ]
  },
  {
   "cell_type": "code",
   "execution_count": null,
   "metadata": {},
   "outputs": [],
   "source": [
    "import flowws\n",
    "import gtar\n",
    "from hoomd_flowws.Init import Init\n",
    "from hoomd_flowws.Interaction import Interaction\n",
    "from hoomd_flowws.Run import Run\n",
    "\n",
    "import plato, plato.draw.povray as draw\n",
    "import freud\n",
    "import numpy as np\n",
    "import IPython\n",
    "import ipywidgets"
   ]
  },
  {
   "cell_type": "code",
   "execution_count": null,
   "metadata": {},
   "outputs": [],
   "source": [
    "storage = flowws.DirectoryStorage()\n",
    "stages = [\n",
    "    Init(number=128),\n",
    "    Interaction(\n",
    "        type='lj', global_params=[('r_cut', 2**(1./6))], \n",
    "        pair_params=[('A', 'A', 'epsilon', 1), ('A', 'A', 'sigma', 1)]),\n",
    "    Run(steps=1e3, integrator='langevin'),\n",
    "    Run(steps=1e4, integrator='langevin', compress_to=.57, dump_period=1e3),\n",
    "]\n",
    "\n",
    "flowws.Workflow(stages, storage).run()"
   ]
  },
  {
   "cell_type": "code",
   "execution_count": null,
   "metadata": {},
   "outputs": [],
   "source": [
    "num_frames = 0\n",
    "\n",
    "def get_frame(frame=-1):\n",
    "    global num_frames\n",
    "    with gtar.GTAR('dump.sqlite', 'r') as traj:\n",
    "        (posRec, boxRec), frames = traj.framesWithRecordsNamed(['position', 'box'])\n",
    "\n",
    "        num_frames = len(frames)\n",
    "        positions = traj.getRecord(posRec, frames[frame])\n",
    "        box = traj.getRecord(boxRec, frames[frame])\n",
    "    return positions, box"
   ]
  },
  {
   "cell_type": "code",
   "execution_count": null,
   "metadata": {},
   "outputs": [],
   "source": [
    "def update(scene, frame=-1):\n",
    "    (positions, box) = get_frame(frame)\n",
    "    \n",
    "    # get nearest-neighbor distance, rescaled to go from 0-1, as cval\n",
    "    fbox = freud.box.Box.from_box(box)\n",
    "    nn = freud.locality.NearestNeighbors(1.5, 1).compute(fbox, positions, positions)\n",
    "    cval = nn.r_sq_list[:, 0].copy()\n",
    "    cval -= np.min(cval)\n",
    "    cval /= np.max(cval)\n",
    "\n",
    "    colors = plato.cmap.cubehelix(.25 + .5*cval)\n",
    "    \n",
    "    for prim in scene:\n",
    "        prim.colors = colors\n",
    "        prim.positions = positions\n",
    "        prim.diameters = np.ones(len(positions))\n",
    "\n",
    "prim = draw.Spheres()\n",
    "features = dict(ambient_light=.4)\n",
    "scene = draw.Scene(prim, features=features, zoom=4.8)\n",
    "update(scene)\n",
    "\n",
    "target = '../../gallery/flowws_spheres_povray.png'\n",
    "scene.save(target)\n",
    "IPython.display.Image(filename=target)"
   ]
  },
  {
   "cell_type": "code",
   "execution_count": null,
   "metadata": {},
   "outputs": [],
   "source": [
    "import plato.draw.vispy as interactive\n",
    "\n",
    "live_scene = scene.convert(interactive)\n",
    "live_scene.show()\n",
    "\n",
    "@ipywidgets.interact(frame=(0, num_frames - 1))\n",
    "def plot(frame=0):\n",
    "    update(live_scene, frame)\n",
    "    live_scene.render()"
   ]
  },
  {
   "cell_type": "code",
   "execution_count": null,
   "metadata": {},
   "outputs": [],
   "source": []
  }
 ],
 "metadata": {
  "kernelspec": {
   "display_name": "Python 3",
   "language": "python",
   "name": "python3"
  },
  "language_info": {
   "codemirror_mode": {
    "name": "ipython",
    "version": 3
   },
   "file_extension": ".py",
   "mimetype": "text/x-python",
   "name": "python",
   "nbconvert_exporter": "python",
   "pygments_lexer": "ipython3",
   "version": "3.7.3"
  }
 },
 "nbformat": 4,
 "nbformat_minor": 2
}
