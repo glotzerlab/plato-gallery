{
 "cells": [
  {
   "cell_type": "markdown",
   "metadata": {},
   "source": [
    "In this notebook we simulate hard rhombic dodecahedra using the [HPMC component](https://hoomd-blue.readthedocs.io/en/stable/package-hpmc.html) of HOOMD-Blue. We visualize the shapes using the [fresnel backend](https://fresnel.readthedocs.io/en/stable/) and color them by their [Steinhardt](https://freud.readthedocs.io/en/stable/order.html#freud.order.LocalQlNear) $Q_6$ order parameter."
   ]
  },
  {
   "cell_type": "code",
   "execution_count": null,
   "metadata": {},
   "outputs": [],
   "source": [
    "import flowws\n",
    "import gtar\n",
    "from hoomd_flowws.Init import Init\n",
    "from hoomd_flowws.RunHPMC import RunHPMC\n",
    "from hoomd_flowws.ShapeDefinition import ShapeDefinition\n",
    "\n",
    "import json\n",
    "import plato, plato.draw.fresnel as draw\n",
    "import freud\n",
    "import numpy as np\n",
    "import IPython"
   ]
  },
  {
   "cell_type": "code",
   "execution_count": null,
   "metadata": {},
   "outputs": [],
   "source": [
    "shape = dict(type='icosahedron', modifications=[dict(type='scale', factor=2)])\n",
    "\n",
    "storage = flowws.DirectoryStorage()\n",
    "stages = [\n",
    "    ShapeDefinition(shape_arguments=[shape]),\n",
    "    Init(number=128),\n",
    "    RunHPMC(steps=1e5, integrator='npt', box_move_length=(.05, 1), dump_period=1e3),\n",
    "]\n",
    "\n",
    "flowws.Workflow(stages, storage, dict(hoomd_context_args='--mode=cpu')).run()"
   ]
  },
  {
   "cell_type": "code",
   "execution_count": null,
   "metadata": {},
   "outputs": [],
   "source": [
    "with gtar.GTAR('dump.sqlite', 'r') as traj:\n",
    "    (posRec, quatRec, boxRec), frames = traj.framesWithRecordsNamed(['position', 'orientation', 'box'])\n",
    "    \n",
    "    for (_, type_shapes) in traj.recordsNamed('type_shapes.json'):\n",
    "        type_shapes = json.loads(type_shapes)\n",
    "    \n",
    "    positions = traj.getRecord(posRec, frames[-1])\n",
    "    orientations = traj.getRecord(quatRec, frames[-1])\n",
    "    box = traj.getRecord(boxRec, frames[-1])   \n",
    "\n",
    "shapedef = type_shapes[0]"
   ]
  },
  {
   "cell_type": "code",
   "execution_count": null,
   "metadata": {},
   "outputs": [],
   "source": [
    "# get Steinhardt q6, rescaled from 0 to 1, as cval\n",
    "fbox = freud.box.Box.from_box(box)\n",
    "nn = freud.locality.NearestNeighbors(2, 12).compute(fbox, positions, positions)\n",
    "q6 = freud.order.LocalQl(fbox, 8, 12).compute(positions, nn.nlist)\n",
    "cval = q6.Ql.copy()\n",
    "cval -= np.min(cval)\n",
    "cval /= np.max(cval)\n",
    "\n",
    "colors = plato.cmap.cubehelix(.25 + .5*cval, s=2)\n",
    "prim = draw.ConvexPolyhedra(\n",
    "    positions=positions, orientations=orientations, colors=colors, \n",
    "    vertices=shapedef['vertices'], outline=.025)\n",
    "features = dict(pathtracer=dict(samples=128))\n",
    "scene = draw.Scene(prim, zoom=1.8, features=features,\n",
    "                   rotation=[0.94183356, 0.15549502, 0.29752356, 0.01583402])\n",
    "\n",
    "target = '../../gallery/flowws_icosahedra_fresnel.png'\n",
    "scene.save(target)\n",
    "IPython.display.Image(filename=target)"
   ]
  },
  {
   "cell_type": "code",
   "execution_count": null,
   "metadata": {},
   "outputs": [],
   "source": []
  }
 ],
 "metadata": {
  "kernelspec": {
   "display_name": "Python 3",
   "language": "python",
   "name": "python3"
  },
  "language_info": {
   "codemirror_mode": {
    "name": "ipython",
    "version": 3
   },
   "file_extension": ".py",
   "mimetype": "text/x-python",
   "name": "python",
   "nbconvert_exporter": "python",
   "pygments_lexer": "ipython3",
   "version": "3.7.3"
  }
 },
 "nbformat": 4,
 "nbformat_minor": 2
}
