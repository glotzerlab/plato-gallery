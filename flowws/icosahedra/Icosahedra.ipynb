{
 "cells": [
  {
   "cell_type": "markdown",
   "metadata": {},
   "source": [
    "In this notebook we simulate hard rhombic dodecahedra using the [HPMC component](https://hoomd-blue.readthedocs.io/en/stable/package-hpmc.html) of HOOMD-Blue. We visualize the shapes using the [fresnel backend](https://fresnel.readthedocs.io/en/stable/) and color them by their [Steinhardt](https://freud.readthedocs.io/en/stable/order.html#freud.order.LocalQlNear) $Q_6$ order parameter."
   ]
  },
  {
   "cell_type": "code",
   "execution_count": null,
   "metadata": {},
   "outputs": [],
   "source": [
    "import flowws\n",
    "import gtar\n",
    "from hoomd_flowws.Init import Init\n",
    "from hoomd_flowws.RunHPMC import RunHPMC\n",
    "from hoomd_flowws.ShapeDefinition import ShapeDefinition\n",
    "\n",
    "import json\n",
    "import plato, plato.draw.fresnel as draw\n",
    "import freud\n",
    "import numpy as np\n",
    "import IPython\n",
    "import ipywidgets"
   ]
  },
  {
   "cell_type": "code",
   "execution_count": null,
   "metadata": {},
   "outputs": [],
   "source": [
    "shape = dict(type='icosahedron', modifications=[dict(type='scale', factor=2)])\n",
    "\n",
    "storage = flowws.DirectoryStorage()\n",
    "stages = [\n",
    "    ShapeDefinition(shape_arguments=[shape]),\n",
    "    Init(number=128),\n",
    "    RunHPMC(steps=1e5, integrator='npt', box_move_length=(.05, 1), dump_period=1e3),\n",
    "]\n",
    "\n",
    "flowws.Workflow(stages, storage, dict(hoomd_context_args='--mode=cpu')).run()"
   ]
  },
  {
   "cell_type": "code",
   "execution_count": null,
   "metadata": {},
   "outputs": [],
   "source": [
    "num_frames = 0\n",
    "\n",
    "def get_frame(frame=-1):\n",
    "    global num_frames\n",
    "    with gtar.GTAR('dump.sqlite', 'r') as traj:\n",
    "        (posRec, quatRec, boxRec), frames = traj.framesWithRecordsNamed(['position', 'orientation', 'box'])\n",
    "\n",
    "        for (_, type_shapes) in traj.recordsNamed('type_shapes.json'):\n",
    "            type_shapes = json.loads(type_shapes)\n",
    "\n",
    "        num_frames = len(frames)\n",
    "        positions = traj.getRecord(posRec, frames[frame])\n",
    "        orientations = traj.getRecord(quatRec, frames[frame])\n",
    "        box = traj.getRecord(boxRec, frames[frame])\n",
    "\n",
    "    shapedef = type_shapes[0]\n",
    "    return positions, orientations, box, shapedef"
   ]
  },
  {
   "cell_type": "code",
   "execution_count": null,
   "metadata": {},
   "outputs": [],
   "source": [
    "def update(scene, frame=-1):\n",
    "    (positions, orientations, box, shapedef) = get_frame(frame)\n",
    "    # get Steinhardt q6, rescaled from 0 to 1, as cval\n",
    "    fbox = freud.box.Box.from_box(box)\n",
    "    nn = freud.locality.NearestNeighbors(2, 12).compute(fbox, positions, positions)\n",
    "    q6 = freud.order.LocalQl(fbox, 8, 12).compute(positions, nn.nlist)\n",
    "    cval = q6.Ql.copy()\n",
    "    cval -= np.min(cval)\n",
    "    cval /= np.max(cval)\n",
    "\n",
    "    colors = plato.cmap.cubehelix(.25 + .5*cval, s=2)\n",
    "    \n",
    "    for prim in scene:\n",
    "        prim.positions = positions\n",
    "        prim.orientations = orientations\n",
    "        prim.colors = colors\n",
    "        prim.vertices = shapedef['vertices']\n",
    "        \n",
    "prim = draw.ConvexPolyhedra(outline=.025)\n",
    "features = dict(pathtracer=dict(samples=128))\n",
    "scene = draw.Scene(prim, zoom=1.8, features=features,\n",
    "                   rotation=[0.94183356, 0.15549502, 0.29752356, 0.01583402])\n",
    "update(scene)\n",
    "\n",
    "target = '../../gallery/flowws_icosahedra_fresnel.png'\n",
    "scene.save(target)\n",
    "IPython.display.Image(filename=target)"
   ]
  },
  {
   "cell_type": "code",
   "execution_count": null,
   "metadata": {},
   "outputs": [],
   "source": [
    "import plato.draw.vispy as interactive\n",
    "\n",
    "live_scene = scene.convert(interactive)\n",
    "live_scene.show()\n",
    "\n",
    "@ipywidgets.interact(frame=(0, num_frames - 1))\n",
    "def plot(frame=0):\n",
    "    update(live_scene, frame)\n",
    "    live_scene.render()"
   ]
  },
  {
   "cell_type": "code",
   "execution_count": null,
   "metadata": {},
   "outputs": [],
   "source": []
  }
 ],
 "metadata": {
  "kernelspec": {
   "display_name": "Python 3",
   "language": "python",
   "name": "python3"
  },
  "language_info": {
   "codemirror_mode": {
    "name": "ipython",
    "version": 3
   },
   "file_extension": ".py",
   "mimetype": "text/x-python",
   "name": "python",
   "nbconvert_exporter": "python",
   "pygments_lexer": "ipython3",
   "version": "3.7.3"
  }
 },
 "nbformat": 4,
 "nbformat_minor": 2
}
