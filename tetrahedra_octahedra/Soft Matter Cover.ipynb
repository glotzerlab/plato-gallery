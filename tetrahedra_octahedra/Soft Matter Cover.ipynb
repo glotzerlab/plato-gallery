{
 "cells": [
  {
   "cell_type": "markdown",
   "metadata": {},
   "source": [
    "This notebook generates an image similar to that found in a Soft Matter cover associated with the paper \"Self-assembly of a space-tessellating structure in the binary system of hard tetrahedra and octahedra\" available at <http://pubs.rsc.org/en/content/articlelanding/2016/sm/c6sm01180b>."
   ]
  },
  {
   "cell_type": "code",
   "execution_count": null,
   "metadata": {},
   "outputs": [],
   "source": [
    "from collections import defaultdict, namedtuple\n",
    "import itertools\n",
    "from itertools import repeat\n",
    "import numpy as np\n",
    "import gtar\n",
    "import json\n",
    "import freud\n",
    "\n",
    "import plato\n",
    "import plato.draw.povray as draw_static\n",
    "\n",
    "# set to True to enable live visualization\n",
    "viz_live = False\n",
    "\n",
    "if viz_live: \n",
    "    import vispy\n",
    "    from vispy import app\n",
    "    app.use_app('ipynb_webgl')\n",
    "    from vispy import gloo\n",
    "    import plato.draw.vispy as draw_live\n",
    "else:\n",
    "    import plato.draw as draw_live"
   ]
  },
  {
   "cell_type": "code",
   "execution_count": null,
   "metadata": {
    "scrolled": true
   },
   "outputs": [],
   "source": [
    "with gtar.GTAR('soft_matter_cluster.zip', 'r') as traj:\n",
    "    positions = traj.readPath('position.f32.ind')\n",
    "    orientations = traj.readPath('orientation.f32.ind')\n",
    "    box = traj.readPath('box.f32.uni')\n",
    "    types = traj.readPath('type.u32.ind')\n",
    "    predictedTypes = traj.readPath('predicted_type.u32.ind')\n",
    "    params = json.loads(traj.readStr('params.json'))"
   ]
  },
  {
   "cell_type": "code",
   "execution_count": null,
   "metadata": {
    "collapsed": true
   },
   "outputs": [],
   "source": [
    "def center(box, positions, filter_mask):\n",
    "    thetas = (positions[filter_mask, :]/np.array(box[:3])[np.newaxis, :] + .5)*2*np.pi\n",
    "    sums = np.sum(np.exp(1j*thetas), axis=0)\n",
    "    fractions = np.angle(sums)/2/np.pi\n",
    "    fractions %= 1.\n",
    "    fractions -= .5\n",
    "    delta = fractions*np.array(box[:3])\n",
    "    fbox = freud.box.Box(*box)\n",
    "    result = np.asarray(positions - delta[np.newaxis, :], dtype=np.float32)\n",
    "    fbox.wrap(result)\n",
    "    return result"
   ]
  },
  {
   "cell_type": "code",
   "execution_count": null,
   "metadata": {
    "collapsed": true
   },
   "outputs": [],
   "source": [
    "Ncolors = np.max(predictedTypes) + 1\n",
    "thetas = np.arange(Ncolors)*2*np.pi*(1 - 1/((1 + np.sqrt(5))/2))\n",
    "typeColors = np.ones((Ncolors, 4), dtype=np.float32)\n",
    "typeColors[:, :3] = plato.cmap.cubeellipse_intensity(thetas, h=1.25, s=-np.pi/3, lam=.4, lam_r1=.2)"
   ]
  },
  {
   "cell_type": "code",
   "execution_count": null,
   "metadata": {},
   "outputs": [],
   "source": [
    "prims = [draw_live.ConvexPolyhedra() for _ in range(2)]\n",
    "\n",
    "colors = typeColors[predictedTypes]\n",
    "solidTypes = [0, 1]\n",
    "shiftedPositions = center(box, positions, np.any([predictedTypes == t for t in solidTypes], axis=0))\n",
    "\n",
    "theta = -np.pi/2\n",
    "rotation = np.array([np.cos(theta/2), 0, np.sin(theta/2), 0], dtype=np.float32)\n",
    "\n",
    "for (typ, prim) in enumerate(prims):\n",
    "    if typ == 1:\n",
    "        typemask = types == typ\n",
    "        prim.vertices = params['shapes'][typ]\n",
    "        prim.positions = shiftedPositions[typemask]\n",
    "        prim.orientations = orientations[typemask]\n",
    "        prim.colors = colors[typemask]\n",
    "    else:\n",
    "        prim.positions = [[0, 0, 0]]\n",
    "        prim.orientations = [[0, 0, 0, 0]]\n",
    "        prim.colors = [[0, 0, 0, 0]]\n",
    "\n",
    "features = dict(ambient_light=.25, directional_light=np.array([(.25, .5, -1), (0, -.5, -.8)])*.9)\n",
    "scene = draw_live.Scene(prims, features=features, rotation=rotation, zoom=1.6)\n",
    "if viz_live:\n",
    "    scene.show()"
   ]
  },
  {
   "cell_type": "code",
   "execution_count": null,
   "metadata": {},
   "outputs": [],
   "source": [
    "# translucent tetrahedra, translucent octahedra, opaque tetrahedra, opaque octahedra\n",
    "prims = [draw_live.ConvexPolyhedra() for _ in range(4)]\n",
    "\n",
    "prims[0].vertices = params['shapes'][0]\n",
    "prims[2].vertices = params['shapes'][0]\n",
    "prims[1].vertices = params['shapes'][1]\n",
    "prims[3].vertices = params['shapes'][1]\n",
    "\n",
    "colors = typeColors[predictedTypes]\n",
    "solidTypes = [0, 1]\n",
    "shiftedPositions = center(box, positions, np.any([predictedTypes == t for t in solidTypes], axis=0))\n",
    "\n",
    "solidMask = np.any([predictedTypes == t for t in solidTypes], axis=0)\n",
    "fluidMask = np.logical_not(solidMask)\n",
    "\n",
    "fluidTetrahedra = np.logical_and(fluidMask, types == 0)\n",
    "fluidOctahedra = np.logical_and(fluidMask, types == 1)\n",
    "solidTetrahedra = np.logical_and(solidMask, types == 0)\n",
    "solidOctahedra = np.logical_and(solidMask, types == 1)\n",
    "\n",
    "rsq = np.sum(shiftedPositions**2, axis=-1)\n",
    "solidSelection = np.ones(shiftedPositions.shape[0], dtype=np.bool)\n",
    "\n",
    "masks = [\n",
    "    fluidTetrahedra,\n",
    "    fluidOctahedra,\n",
    "    np.logical_and(solidTetrahedra, solidSelection), \n",
    "    np.logical_and(solidOctahedra, solidSelection)\n",
    "]\n",
    "\n",
    "for (i, prim, mask) in zip(itertools.count(), prims, masks):\n",
    "    prim.positions = shiftedPositions[mask]\n",
    "    prim.orientations = orientations[mask]\n",
    "    if i % 2:\n",
    "        color = [[0./255, 98./255, 194./255]]\n",
    "    else:\n",
    "        color = [[255./255, (13*16 + 12)/255, 5./255]]\n",
    "        \n",
    "    colors = np.ones((prim.positions.shape[0], 4), dtype=np.float32)\n",
    "    colors[:, :3] = color\n",
    "    colors[:, 3] = .25 if i < 2 else 1\n",
    "    prim.colors = colors\n",
    "\n",
    "scene = draw_live.Scene(prims, rotation=rotation, features=features, zoom=scene.zoom)\n",
    "if viz_live:\n",
    "    scene.show()"
   ]
  },
  {
   "cell_type": "code",
   "execution_count": null,
   "metadata": {},
   "outputs": [],
   "source": [
    "static_prims = [draw_static.ConvexPolyhedra.copy(p) for p in prims]\n",
    "static_scene = draw_static.Scene(static_prims, rotation=rotation, features=features, zoom=scene.zoom)\n",
    "static_scene.enable('antialiasing', .3)\n",
    "static_scene.save('../gallery/tetrahedra_octahedra_povray.png')"
   ]
  },
  {
   "cell_type": "code",
   "execution_count": null,
   "metadata": {
    "collapsed": true
   },
   "outputs": [],
   "source": []
  }
 ],
 "metadata": {
  "kernelspec": {
   "display_name": "Python 3",
   "language": "python",
   "name": "python3"
  },
  "language_info": {
   "codemirror_mode": {
    "name": "ipython",
    "version": 3
   },
   "file_extension": ".py",
   "mimetype": "text/x-python",
   "name": "python",
   "nbconvert_exporter": "python",
   "pygments_lexer": "ipython3",
   "version": "3.6.4"
  }
 },
 "nbformat": 4,
 "nbformat_minor": 1
}
